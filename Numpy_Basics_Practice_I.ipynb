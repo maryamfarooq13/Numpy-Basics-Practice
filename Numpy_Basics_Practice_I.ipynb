{
  "cells": [
    {
      "cell_type": "markdown",
      "metadata": {
        "id": "3fp2tMylXxlZ"
      },
      "source": [
        "# Numpy Basics Exercises\n",
        "\n",
        "Please complete the following exercises **using numpy only**."
      ]
    },
    {
      "cell_type": "code",
      "execution_count": 182,
      "metadata": {
        "id": "dwhl1fZSY-Qw"
      },
      "outputs": [],
      "source": [
        "import numpy as np"
      ]
    },
    {
      "cell_type": "markdown",
      "metadata": {
        "id": "Oork_pTdXsin"
      },
      "source": [
        "### Create a 2-D array where the first row goes from 10 to 80 exclusive with steps of 5 and 2nd row goes from 5 to 47 exclusive with steps of 3"
      ]
    },
    {
      "cell_type": "code",
      "execution_count": 183,
      "metadata": {
        "id": "JJs0sRQ7YKgF"
      },
      "outputs": [
        {
          "name": "stdout",
          "output_type": "stream",
          "text": [
            "Created array is:  \n",
            " [[10 15 20 25 30 35 40 45 50 55 60 65 70 75]\n",
            " [ 5  8 11 14 17 20 23 26 29 32 35 38 41 44]]\n"
          ]
        }
      ],
      "source": [
        "arr = np.array([np.arange(10,80,5),np.arange(5,47,3)]) #itself an array\n",
        "print('Created array is: ',('\\n') ,arr)"
      ]
    },
    {
      "cell_type": "markdown",
      "metadata": {
        "id": "eBGU-aEqYM16"
      },
      "source": [
        "### Now use indexing to select the 5th 7th and 11th columns"
      ]
    },
    {
      "cell_type": "code",
      "execution_count": 184,
      "metadata": {
        "id": "-xAT9OukYNKx"
      },
      "outputs": [
        {
          "name": "stdout",
          "output_type": "stream",
          "text": [
            "\n",
            " column 5 is:  [30 17] \n",
            " column 7 is:   [40 23] \n",
            " column 11 is:  [60 35]\n"
          ]
        }
      ],
      "source": [
        "c5 = arr[:,4]\n",
        "c7 = arr[:,6]\n",
        "c11 = arr[:,10]\n",
        "print(('\\n'),\n",
        "    'column 5 is: ', c5, ('\\n'),\n",
        "    'column 7 is:  ', c7, ('\\n'),\n",
        "    'column 11 is: ', c11)"
      ]
    },
    {
      "cell_type": "markdown",
      "metadata": {
        "id": "wu3J-12UZl2I"
      },
      "source": [
        "### Select the 2nd row and fourth-last to second-last columns"
      ]
    },
    {
      "cell_type": "code",
      "execution_count": 185,
      "metadata": {
        "id": "YPAaA_BKZl-N"
      },
      "outputs": [
        {
          "name": "stdout",
          "output_type": "stream",
          "text": [
            "fourth last to second last column is 2nd row: [35 38 41]\n"
          ]
        }
      ],
      "source": [
        "r2 = arr[1,-4:-1]\n",
        "print('fourth last to second last column is 2nd row:', r2)"
      ]
    },
    {
      "cell_type": "markdown",
      "metadata": {
        "id": "kCgDP3J_ZmF8"
      },
      "source": [
        "### Select 3rd to 3rd last columns skipping every second column"
      ]
    },
    {
      "cell_type": "code",
      "execution_count": 186,
      "metadata": {
        "id": "YqRY90S0ZmNW"
      },
      "outputs": [
        {
          "name": "stdout",
          "output_type": "stream",
          "text": [
            "[[20 30 40 50 60]\n",
            " [11 17 23 29 35]]\n"
          ]
        }
      ],
      "source": [
        "slic = arr[:,2:-2:2]\n",
        "print(slic)"
      ]
    },
    {
      "cell_type": "markdown",
      "metadata": {
        "id": "x21_4u7SZmUx"
      },
      "source": [
        "###  Select 3rd to 3rd last columns skipping every second column but in reverse order"
      ]
    },
    {
      "cell_type": "code",
      "execution_count": 187,
      "metadata": {
        "id": "oEQws0mAZmcU"
      },
      "outputs": [
        {
          "name": "stdout",
          "output_type": "stream",
          "text": [
            "[[60 50 40 30 20]\n",
            " [35 29 23 17 11]]\n"
          ]
        }
      ],
      "source": [
        "slic = arr[:,2:-2:2]\n",
        "slic = np.flip(slic, axis=1 ) #if we don't spcify the axis it flips the array in all axis\n",
        "print(slic)"
      ]
    },
    {
      "cell_type": "markdown",
      "metadata": {
        "id": "bqVyb4DKZmkR"
      },
      "source": [
        "### We will work with the following array:"
      ]
    },
    {
      "cell_type": "code",
      "execution_count": 188,
      "metadata": {
        "colab": {
          "base_uri": "https://localhost:8080/"
        },
        "id": "Iz86eeTWZmsK",
        "outputId": "657f8c8d-0a3b-44b8-e0fe-6de9614c11c1"
      },
      "outputs": [
        {
          "name": "stdout",
          "output_type": "stream",
          "text": [
            "[[ 0  1  2  3  4]\n",
            " [ 5  6  7  8  9]\n",
            " [10 11 12 13 14]\n",
            " [15 16 17 18 19]\n",
            " [20 21 22 23 24]]\n"
          ]
        }
      ],
      "source": [
        "a = np.arange(25).reshape(5, 5)\n",
        "print(a)"
      ]
    },
    {
      "cell_type": "markdown",
      "metadata": {
        "id": "OdjK0hqobWGp"
      },
      "source": [
        "### Use slicing only to select 3rd and last row along with 2nd and last columns"
      ]
    },
    {
      "cell_type": "code",
      "execution_count": 189,
      "metadata": {
        "id": "-iw2ciaibUHU"
      },
      "outputs": [
        {
          "name": "stdout",
          "output_type": "stream",
          "text": [
            "[[11 14]\n",
            " [21 24]]\n"
          ]
        }
      ],
      "source": [
        "print(a[2::2,1::3])"
      ]
    },
    {
      "cell_type": "markdown",
      "metadata": {
        "id": "5PtInLvEb7Am"
      },
      "source": [
        "### Extract the following sub-array: [[2, 3], [12, 13], [22, 23]]"
      ]
    },
    {
      "cell_type": "code",
      "execution_count": 190,
      "metadata": {
        "id": "lVi9eV2rb6hz"
      },
      "outputs": [
        {
          "name": "stdout",
          "output_type": "stream",
          "text": [
            "[[ 2  3]\n",
            " [12 13]\n",
            " [22 23]]\n"
          ]
        }
      ],
      "source": [
        "slic = a[::2,2:4]\n",
        "print(slic)"
      ]
    },
    {
      "cell_type": "markdown",
      "metadata": {
        "id": "mHN-ADlNcRE7"
      },
      "source": [
        "### Combine fancy/location indexing with slicing to extract the following sub-array: [[6, 8], [16, 18], [21, 23]]"
      ]
    },
    {
      "cell_type": "code",
      "execution_count": 191,
      "metadata": {
        "id": "e_R0tbMHcNGy"
      },
      "outputs": [
        {
          "name": "stdout",
          "output_type": "stream",
          "text": [
            "[[ 6  8]\n",
            " [16 18]\n",
            " [21 23]]\n"
          ]
        }
      ],
      "source": [
        "a = np.arange(25).reshape(5, 5)\n",
        "# print(a)\n",
        "indices = [1,3]\n",
        "slic = a[[1,3,4],1::2]\n",
        "# slic = a[[1,3,4]][:,[1,2,4]]\n",
        "print(slic)\n"
      ]
    },
    {
      "cell_type": "markdown",
      "metadata": {
        "id": "gRle44JLc8oL"
      },
      "source": [
        "### Change the values 1, 10, 19 and 22 in the array to -2"
      ]
    },
    {
      "cell_type": "code",
      "execution_count": 192,
      "metadata": {
        "id": "MnIs-SBzdMPv"
      },
      "outputs": [
        {
          "name": "stdout",
          "output_type": "stream",
          "text": [
            "[[ 0 -2  2  3  4]\n",
            " [ 5  6  7  8  9]\n",
            " [-2 11 12 13 14]\n",
            " [15 16 17 18 -2]\n",
            " [20 21 -2 23 24]]\n"
          ]
        }
      ],
      "source": [
        "a = np.arange(25).reshape(5, 5)\n",
        "\n",
        "a[(0,2,3,4),(1,0,-1,2)] = -2\n",
        "print(a)"
      ]
    },
    {
      "cell_type": "markdown",
      "metadata": {
        "id": "tWSQO5e3dZxf"
      },
      "source": [
        "### Repeat above using boolean indexing"
      ]
    },
    {
      "cell_type": "code",
      "execution_count": 193,
      "metadata": {
        "id": "zytB7nrMdYfT"
      },
      "outputs": [
        {
          "name": "stdout",
          "output_type": "stream",
          "text": [
            "[[ 0 -2  2  3  4]\n",
            " [ 5  6  7  8  9]\n",
            " [-2 11 12 13 14]\n",
            " [15 16 17 18 -2]\n",
            " [20 21 -2 23 24]]\n"
          ]
        }
      ],
      "source": [
        "a = np.arange(25).reshape(5,5)\n",
        "\n",
        "# creating bool array\n",
        "b = np.zeros((5,5), dtype='bool')\n",
        "b[(0,2,3,4),(1,0,-1,2)] = 1\n",
        "\n",
        "a[b] = -2\n",
        "print(a)\n",
        "\n"
      ]
    },
    {
      "cell_type": "markdown",
      "metadata": {
        "id": "2i_7lkqpdhtx"
      },
      "source": [
        "### Combine slicing in the column dimension and boolean indexing in row dimension to extract the following sub-array: [[0, 3], [10, 13], [15, 18]]"
      ]
    },
    {
      "cell_type": "code",
      "execution_count": 194,
      "metadata": {
        "id": "O8683ef2dYng"
      },
      "outputs": [
        {
          "name": "stdout",
          "output_type": "stream",
          "text": [
            "[[ 0  3]\n",
            " [10 13]\n",
            " [15 18]]\n"
          ]
        }
      ],
      "source": [
        "a = np.arange(25).reshape(5,5)\n",
        "# print(a)\n",
        "\n",
        "# simple way\n",
        "print(a[[0,2,3],::3])\n",
        "\n",
        "# creating bool array\n",
        "b = np.zeros((5,5), dtype='bool')\n",
        "b[[0,2,3],::3] = 1\n",
        "# print('boolean indices are: ',('\\n'), b)\n",
        "\n",
        "# print(a[b])\n",
        "\n",
        "\n"
      ]
    },
    {
      "cell_type": "markdown",
      "metadata": {
        "id": "BLH29N-KLDEJ"
      },
      "source": [
        "### Calculating the sum, min and max of all diagonal values"
      ]
    },
    {
      "cell_type": "code",
      "execution_count": 195,
      "metadata": {
        "id": "ARzj6VP9LCPz"
      },
      "outputs": [
        {
          "name": "stdout",
          "output_type": "stream",
          "text": [
            "[ 0  6 12 18 24]\n",
            "sum of diagnol values is:  60\n",
            "min of diagnol values is:  0\n",
            "max of diagnol values is:  24\n"
          ]
        }
      ],
      "source": [
        "a = np.arange(25).reshape(5,5)\n",
        "# print(a)\n",
        "\n",
        "# extracting diagnol values\n",
        "print(a[[0,1,2,3,4],[0,1,2,3,4]])\n",
        "\n",
        "#claculating sum\n",
        "print('sum of diagnol values is: ', np.sum(a[[0,1,2,3,4],[0,1,2,3,4]]))\n",
        "\n",
        "#claculating min\n",
        "print('min of diagnol values is: ', np.min(a[[0,1,2,3,4],[0,1,2,3,4]]))\n",
        "\n",
        "#claculating max\n",
        "print('max of diagnol values is: ', np.max(a[[0,1,2,3,4],[0,1,2,3,4]]))"
      ]
    },
    {
      "cell_type": "markdown",
      "metadata": {
        "id": "IIL3aHfpMQpr"
      },
      "source": [
        "### Calculate the sum of differences between the 2nd row and 2nd last column"
      ]
    },
    {
      "cell_type": "code",
      "execution_count": 196,
      "metadata": {
        "id": "mNyxI8d0Mcvz"
      },
      "outputs": [
        {
          "name": "stdout",
          "output_type": "stream",
          "text": [
            "-35\n"
          ]
        }
      ],
      "source": [
        "a = np.arange(25).reshape(5,5)\n",
        "# print(a)\n",
        "\n",
        "#extracting 2nd row\n",
        "b = a[1]\n",
        "# print(b)\n",
        "\n",
        "#extracting 2nd colomn\n",
        "c = a[:,-1]\n",
        "# print(c)\n",
        "\n",
        "# differences between 2nd row and colomn\n",
        "d = b - c\n",
        "# print(d)\n",
        "\n",
        "# sum of differences\n",
        "e = np.add.reduce(d)\n",
        "print(e)"
      ]
    },
    {
      "cell_type": "markdown",
      "metadata": {
        "id": "jEo7E6YNNIU5"
      },
      "source": [
        "### Create a new array that is the sum of even rows and odd rows"
      ]
    },
    {
      "cell_type": "code",
      "execution_count": 197,
      "metadata": {
        "id": "UEwbxwAPNikT"
      },
      "outputs": [
        {
          "name": "stdout",
          "output_type": "stream",
          "text": [
            "[20 22 24 26 28]\n",
            "[50 55 60 65 70]\n"
          ]
        }
      ],
      "source": [
        "a = np.arange(25).reshape(5,5)\n",
        "# print(a)\n",
        "\n",
        "# extraction of even rows\n",
        "evenrows = a[1::2]\n",
        "# print(evenrows)\n",
        "\n",
        "# Extraction of odd rows\n",
        "oddrows = a[0::1]\n",
        "\n",
        "# Array based on sum of even rows\n",
        "evenarr = np.add.reduce(evenrows)\n",
        "print(evenarr)\n",
        "\n",
        "# Array based on sum of odd rows\n",
        "oddarr = np.add.reduce(oddrows)\n",
        "print(oddarr)"
      ]
    },
    {
      "cell_type": "markdown",
      "metadata": {
        "id": "TaKXFf_5d67q"
      },
      "source": [
        "## You are done. Good job!"
      ]
    }
  ],
  "metadata": {
    "colab": {
      "provenance": []
    },
    "kernelspec": {
      "display_name": "Python 3",
      "name": "python3"
    },
    "language_info": {
      "codemirror_mode": {
        "name": "ipython",
        "version": 3
      },
      "file_extension": ".py",
      "mimetype": "text/x-python",
      "name": "python",
      "nbconvert_exporter": "python",
      "pygments_lexer": "ipython3",
      "version": "3.12.1"
    }
  },
  "nbformat": 4,
  "nbformat_minor": 0
}
