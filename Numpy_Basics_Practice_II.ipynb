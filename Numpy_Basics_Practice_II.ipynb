{
  "cells": [
    {
      "cell_type": "code",
      "execution_count": 2,
      "id": "2a8a0fa8-ceee-4b65-9739-39bdbf33d23c",
      "metadata": {
        "id": "2a8a0fa8-ceee-4b65-9739-39bdbf33d23c"
      },
      "outputs": [],
      "source": [
        "import numpy as np"
      ]
    },
    {
      "cell_type": "markdown",
      "id": "6cd94836-36bf-4eca-a68c-4d4afb52ef7d",
      "metadata": {
        "id": "6cd94836-36bf-4eca-a68c-4d4afb52ef7d"
      },
      "source": [
        "# Q1"
      ]
    },
    {
      "cell_type": "markdown",
      "id": "26a82645-942a-40ba-9d5b-a58c65d27817",
      "metadata": {
        "id": "26a82645-942a-40ba-9d5b-a58c65d27817"
      },
      "source": [
        "Statement: Given a 3D NumPy array arr of shape (2, 3, 4), write a code snippet to calculate the sum of all elements in the array.\n",
        "\n",
        "Sample Input:"
      ]
    },
    {
      "cell_type": "code",
      "execution_count": 3,
      "id": "dbf71bf2-1ac9-48f3-96fb-5f22ad767b29",
      "metadata": {
        "id": "dbf71bf2-1ac9-48f3-96fb-5f22ad767b29"
      },
      "outputs": [
        {
          "name": "stdout",
          "output_type": "stream",
          "text": [
            "Sum of all elements in array is:  60\n"
          ]
        }
      ],
      "source": [
        "# creating a 3d array:\n",
        "arr = np.array([[[1,2,3,4],[1,2,3,4],[1,2,3,4]],\n",
        "                [[1,2,3,4],[1,2,3,4],[1,2,3,4]]])\n",
        "# print(arr)\n",
        "# print(arr.shape)\n",
        "\n",
        "#sum of elements in array\n",
        "s = np.add.reduce(arr)\n",
        "# print(s)\n",
        "s = np.add.reduce(s)\n",
        "# print(s)\n",
        "s = np.add.reduce(s)\n",
        "print('Sum of all elements in array is: ', s)\n",
        "\n",
        "\n"
      ]
    },
    {
      "cell_type": "markdown",
      "id": "14bd52a2-86d8-4ef6-b1ee-de66e9703458",
      "metadata": {
        "id": "14bd52a2-86d8-4ef6-b1ee-de66e9703458"
      },
      "source": [
        "# Q2"
      ]
    },
    {
      "cell_type": "markdown",
      "id": "9a536e77-25c6-4b63-906b-7aa8eaaa073e",
      "metadata": {
        "id": "9a536e77-25c6-4b63-906b-7aa8eaaa073e"
      },
      "source": [
        "Statement: Write a NumPy code snippet to create a 4D array arr of shape (2, 3, 4, 5) filled with random integers ranging from 0 to 9.\n",
        "\n",
        "Sample Output:"
      ]
    },
    {
      "cell_type": "code",
      "execution_count": 4,
      "id": "5602b3f2-13e2-4585-9870-9bc07563c60e",
      "metadata": {
        "id": "5602b3f2-13e2-4585-9870-9bc07563c60e"
      },
      "outputs": [
        {
          "name": "stdout",
          "output_type": "stream",
          "text": [
            "[[[[0 5 4 7 6]\n",
            "   [6 6 4 1 5]\n",
            "   [8 5 5 6 0]\n",
            "   [5 7 0 6 1]]\n",
            "\n",
            "  [[1 8 0 6 2]\n",
            "   [3 0 3 0 3]\n",
            "   [2 5 0 6 6]\n",
            "   [2 2 2 5 3]]\n",
            "\n",
            "  [[3 3 8 6 7]\n",
            "   [5 6 4 2 5]\n",
            "   [0 4 6 3 5]\n",
            "   [5 4 1 8 1]]]\n",
            "\n",
            "\n",
            " [[[0 7 0 8 0]\n",
            "   [7 4 1 3 8]\n",
            "   [7 6 5 2 7]\n",
            "   [2 8 6 0 8]]\n",
            "\n",
            "  [[6 8 4 5 8]\n",
            "   [2 8 7 6 7]\n",
            "   [7 4 1 8 5]\n",
            "   [0 1 1 8 2]]\n",
            "\n",
            "  [[1 1 4 2 1]\n",
            "   [8 1 6 2 6]\n",
            "   [6 5 4 2 6]\n",
            "   [4 6 6 3 4]]]]\n"
          ]
        }
      ],
      "source": [
        "# creating array\n",
        "arr = np.random.randint(0, 9, size=(2,3,4,5))\n",
        "print(arr)"
      ]
    },
    {
      "cell_type": "markdown",
      "id": "540f8d57-6cc0-4e53-8744-787e868276a4",
      "metadata": {
        "id": "540f8d57-6cc0-4e53-8744-787e868276a4"
      },
      "source": [
        "# Q3"
      ]
    },
    {
      "cell_type": "markdown",
      "id": "37497bad-10e3-4c65-b4f6-65bb5ed0b00d",
      "metadata": {
        "id": "37497bad-10e3-4c65-b4f6-65bb5ed0b00d"
      },
      "source": [
        "Statement: Given a 4D NumPy array arr of shape (2, 3, 4, 5), write a code snippet to calculate the mean along the second axis.\n",
        "\n",
        "Sample Input:"
      ]
    },
    {
      "cell_type": "code",
      "execution_count": 5,
      "id": "84df3761-5341-4010-b541-6a79a1b74625",
      "metadata": {
        "id": "84df3761-5341-4010-b541-6a79a1b74625"
      },
      "outputs": [
        {
          "name": "stdout",
          "output_type": "stream",
          "text": [
            "mean along 2nd axis is:  [[[38.         59.66666667 20.33333333 13.33333333 25.33333333]\n",
            "  [55.         36.66666667 63.         80.66666667 71.        ]\n",
            "  [59.         80.66666667 41.33333333 46.66666667 54.66666667]\n",
            "  [33.33333333 29.33333333 68.         48.66666667 36.66666667]]\n",
            "\n",
            " [[68.33333333 24.33333333 62.         63.         37.66666667]\n",
            "  [48.         40.33333333 53.66666667 35.66666667 69.66666667]\n",
            "  [48.66666667 53.         50.66666667 53.         29.        ]\n",
            "  [27.66666667 24.         44.33333333 48.         53.66666667]]]\n"
          ]
        }
      ],
      "source": [
        "# creating array\n",
        "arr = np.random.randint(0, 100, size=(2,3,4,5))\n",
        "# print(arr)\n",
        "\n",
        "mean = np.mean(arr, axis=1)\n",
        "print('mean along 2nd axis is: ', mean)\n"
      ]
    },
    {
      "cell_type": "markdown",
      "id": "9d4cd387-ca18-4951-a1ab-63a7a1f80a0d",
      "metadata": {
        "id": "9d4cd387-ca18-4951-a1ab-63a7a1f80a0d"
      },
      "source": [
        "# Q4"
      ]
    },
    {
      "cell_type": "markdown",
      "id": "768891f0-dd85-4a6b-a336-31061a30945f",
      "metadata": {
        "id": "768891f0-dd85-4a6b-a336-31061a30945f"
      },
      "source": [
        "Statement: You have collected data from a temperature sensor placed at different locations over a period of time. The recorded temperatures are stored in a 3D NumPy array temps of shape (7, 24, 60), where the dimensions represent the number of days, hours in a day, and minutes in an hour, respectively. Write a code snippet to calculate the mean temperature for each day.\n",
        "\n",
        "Sample Input:"
      ]
    },
    {
      "cell_type": "code",
      "execution_count": 14,
      "id": "905df96f-ee7f-410f-adae-88758871af96",
      "metadata": {
        "id": "905df96f-ee7f-410f-adae-88758871af96"
      },
      "outputs": [
        {
          "name": "stdout",
          "output_type": "stream",
          "text": [
            "[[25.71428571 31.42857143 27.14285714 ... 30.28571429 28.71428571\n",
            "  29.        ]\n",
            " [32.14285714 34.28571429 28.14285714 ... 30.57142857 28.71428571\n",
            "  34.28571429]\n",
            " [27.71428571 30.         33.57142857 ... 27.71428571 29.42857143\n",
            "  28.85714286]\n",
            " ...\n",
            " [23.85714286 34.85714286 30.28571429 ... 28.42857143 28.28571429\n",
            "  26.        ]\n",
            " [24.14285714 27.         34.14285714 ... 25.         28.14285714\n",
            "  27.71428571]\n",
            " [29.14285714 32.57142857 29.         ... 34.         29.71428571\n",
            "  32.57142857]]\n"
          ]
        }
      ],
      "source": [
        "# creating array\n",
        "arr = np.random.randint(15,45, size=(7,24,60))\n",
        "\n",
        "# calculating mean\n",
        "av = np.mean(arr, axis=0) #axis taken 0 beacuse we are calculating mean per day from dimensions\n",
        "print(av)"
      ]
    },
    {
      "cell_type": "markdown",
      "id": "f8913844-39a1-4d9b-a434-7af478336f20",
      "metadata": {
        "id": "f8913844-39a1-4d9b-a434-7af478336f20"
      },
      "source": [
        "Sample Output:\n",
        "\n",
        "array([27.43864059, 26.99643944, 27.10398301, 27.43854821, 26.81072977,\n",
        "       26.76581481, 27.07946152])"
      ]
    },
    {
      "cell_type": "markdown",
      "id": "55a224ca-01c9-4b13-8bc9-1db7269a35d5",
      "metadata": {
        "id": "55a224ca-01c9-4b13-8bc9-1db7269a35d5"
      },
      "source": [
        "# Q5"
      ]
    },
    {
      "cell_type": "markdown",
      "id": "af5efd9b-ff4f-4ae1-af9a-da9bf621d3bd",
      "metadata": {
        "id": "af5efd9b-ff4f-4ae1-af9a-da9bf621d3bd"
      },
      "source": [
        "Statement: You have collected data from multiple sensors placed in different rooms of a building. The sensor readings are stored in a 4D NumPy array readings of shape (4, 7, 24, 60), where the dimensions represent the number of sensors, number of days, hours in a day, and minutes in an hour, respectively. Write a code snippet to calculate the maximum reading for each sensor across all days."
      ]
    },
    {
      "cell_type": "code",
      "execution_count": 7,
      "id": "79873e69-35ad-4bde-ba48-cf33218b1dc2",
      "metadata": {
        "id": "79873e69-35ad-4bde-ba48-cf33218b1dc2"
      },
      "outputs": [
        {
          "name": "stdout",
          "output_type": "stream",
          "text": [
            "[[[72 72 55 ... 65 66 69]\n",
            "  [62 67 73 ... 74 74 74]\n",
            "  [60 62 72 ... 70 62 74]\n",
            "  ...\n",
            "  [61 71 74 ... 64 71 54]\n",
            "  [60 74 67 ... 67 58 72]\n",
            "  [73 42 71 ... 60 73 64]]\n",
            "\n",
            " [[68 56 72 ... 69 69 63]\n",
            "  [51 74 67 ... 70 64 73]\n",
            "  [73 68 66 ... 65 68 71]\n",
            "  ...\n",
            "  [73 73 69 ... 68 69 72]\n",
            "  [62 58 71 ... 66 68 72]\n",
            "  [64 73 74 ... 74 72 74]]\n",
            "\n",
            " [[68 63 65 ... 72 59 63]\n",
            "  [66 61 70 ... 71 73 65]\n",
            "  [71 72 74 ... 65 68 73]\n",
            "  ...\n",
            "  [64 57 67 ... 72 57 60]\n",
            "  [47 73 71 ... 45 70 52]\n",
            "  [64 67 67 ... 52 65 57]]\n",
            "\n",
            " [[68 70 67 ... 72 62 69]\n",
            "  [71 63 65 ... 68 71 72]\n",
            "  [60 57 63 ... 63 66 66]\n",
            "  ...\n",
            "  [73 57 64 ... 61 67 49]\n",
            "  [68 74 72 ... 62 72 57]\n",
            "  [48 69 62 ... 64 73 68]]]\n"
          ]
        }
      ],
      "source": [
        "# creating array\n",
        "arr = np.random.randint(5,75, size=(4,7,24,60))\n",
        "\n",
        "# calculating mean\n",
        "mx = np.max(arr, axis=1) #axis taken 2 beacuse we are calculating max across all days from dimensions\n",
        "print(mx)"
      ]
    },
    {
      "cell_type": "markdown",
      "id": "e8ca2836-0977-4b11-a214-a93630131927",
      "metadata": {
        "id": "e8ca2836-0977-4b11-a214-a93630131927"
      },
      "source": [
        "# Q6"
      ]
    },
    {
      "cell_type": "markdown",
      "id": "b324cb33-b481-4cf8-a148-9292ec382a8c",
      "metadata": {
        "id": "b324cb33-b481-4cf8-a148-9292ec382a8c"
      },
      "source": [
        "Statement: You have collected data from a 3D printer that measures the dimensions of printed objects. The recorded dimensions are stored in a 3D NumPy array dimensions of shape (100, 50, 3), where the dimensions represent the number of printed objects, number of measurements for each object, and the three dimensions (length, width, height), respectively. Write a code snippet to calculate the mean length, width, and height across all objects.\n",
        "\n",
        "Sample Inpumt:"
      ]
    },
    {
      "cell_type": "code",
      "execution_count": 8,
      "id": "d1199cf1-5f47-45f5-a090-615021490d8e",
      "metadata": {
        "id": "d1199cf1-5f47-45f5-a090-615021490d8e"
      },
      "outputs": [
        {
          "name": "stdout",
          "output_type": "stream",
          "text": [
            "53.559\n",
            "53.8436\n",
            "54.123\n"
          ]
        }
      ],
      "source": [
        "# creating array\n",
        "arr = np.random.randint(10,100, size=(100,50,3))\n",
        "\n",
        "# calculating mean length\n",
        "avlen = np.mean(arr[:,:,0])\n",
        "print(avlen)\n",
        "\n",
        "# calculating mean width\n",
        "avwid = np.mean(arr[:,:,1])\n",
        "print(avwid)\n",
        "\n",
        "# calculating mean height\n",
        "avhig = np.mean(arr[:,:,2])\n",
        "print(avhig)"
      ]
    },
    {
      "cell_type": "markdown",
      "id": "a3c20cfa-7ad6-437b-8837-1eabded47ac7",
      "metadata": {
        "id": "a3c20cfa-7ad6-437b-8837-1eabded47ac7"
      },
      "source": [
        "# Q7"
      ]
    },
    {
      "cell_type": "markdown",
      "id": "c5c5e835-2d6d-4bec-a700-4125e2ea7375",
      "metadata": {
        "id": "c5c5e835-2d6d-4bec-a700-4125e2ea7375"
      },
      "source": [
        "Statement: You are given a 3D NumPy array data of shape (5, 6, 7) representing the sensor readings from multiple sensors placed in different locations over a period of time. Each sensor provides measurements at different time points. Write a code snippet to calculate the following statistics for each sensor:\n",
        "\n",
        "Total number of measurements\n",
        "\n",
        "mean measurement value\n",
        "\n",
        "Standard deviation of measurements\n",
        "\n",
        "Minimum measurement value\n",
        "\n",
        "Maximum measurement value\n",
        "\n",
        "Sample Input:"
      ]
    },
    {
      "cell_type": "code",
      "execution_count": 9,
      "id": "46256376-8395-460c-a736-71a83252e47f",
      "metadata": {
        "id": "46256376-8395-460c-a736-71a83252e47f"
      },
      "outputs": [
        {
          "name": "stdout",
          "output_type": "stream",
          "text": [
            "Total number of measurements: [2067 1883 1928 1854 1957]\n",
            "mean measurement value: [49.21428571 44.83333333 45.9047619  44.14285714 46.5952381 ]\n",
            "Standard deviation of measurements: [19.77316088 18.24948358 20.87355301 18.54283513 18.5113344 ]\n",
            "Minimum measurement value: [11 15 12 11 11]\n",
            "Maximum measurement value: [79 78 79 78 78]\n"
          ]
        }
      ],
      "source": [
        "# according to problem statement: \n",
        "# 1d --- mulitiple(different) sensors - (axis 0)\n",
        "# 2d --- different locations - (axis 1)\n",
        "# 1d --- different time/period of time - (axis 2)\n",
        "# so for each sensor operations will be performed along axis 1 and 2\n",
        "\n",
        "#creating array first:\n",
        "arr = np.random.randint(11,80, size=(5,6,7))\n",
        "# print(arr)\n",
        "\n",
        "# Total number of measurements for each sensor\n",
        "total_measurements = np.sum(arr, axis=(1, 2))\n",
        "\n",
        "# mean measurement value for each sensor\n",
        "mean_measurement = np.mean(arr, axis=(1, 2))\n",
        "\n",
        "# Standard deviation of measurements for each sensor\n",
        "std_of_measuremnts = np.std(arr, axis=(1, 2))\n",
        "\n",
        "# Minimum measurement value\n",
        "min_measurement = np.min(arr, axis=(1, 2))\n",
        "\n",
        "# Maximum measurement value\n",
        "max_measurement = np.max(arr, axis=(1, 2))\n",
        "\n",
        "\n",
        "print(\"Total number of measurements:\", total_measurements)\n",
        "print(\"mean measurement value:\", mean_measurement)\n",
        "print(\"Standard deviation of measurements:\", std_of_measuremnts)\n",
        "print(\"Minimum measurement value:\", min_measurement)\n",
        "print(\"Maximum measurement value:\", max_measurement)\n",
        "\n",
        "# Hence outpu shows 5 values because of 5 different sensors \n",
        "# yayyy!"
      ]
    },
    {
      "cell_type": "markdown",
      "id": "617d2937",
      "metadata": {},
      "source": [
        "*For Understaning which axis is called with multidimensional arrays*"
      ]
    },
    {
      "cell_type": "code",
      "execution_count": 10,
      "id": "55935aa8",
      "metadata": {},
      "outputs": [],
      "source": [
        "# arr1 = np.random.randint(1,10, size=(4,4))\n",
        "# arr2 = np.random.randint(1,10, size=(2,4,4))\n",
        "# arr3 = np.random.randint(1,10, size=(2,3,4,4))"
      ]
    },
    {
      "cell_type": "code",
      "execution_count": 11,
      "id": "7ab173cf",
      "metadata": {},
      "outputs": [],
      "source": [
        "# print(arr3)\n",
        "# print(arr3.shape)"
      ]
    },
    {
      "cell_type": "code",
      "execution_count": 12,
      "id": "6ddb5095",
      "metadata": {},
      "outputs": [],
      "source": [
        "# print(np.sum(arr3, axis=2) )"
      ]
    }
  ],
  "metadata": {
    "colab": {
      "provenance": []
    },
    "kernelspec": {
      "display_name": "Python 3 (ipykernel)",
      "language": "python",
      "name": "python3"
    },
    "language_info": {
      "codemirror_mode": {
        "name": "ipython",
        "version": 3
      },
      "file_extension": ".py",
      "mimetype": "text/x-python",
      "name": "python",
      "nbconvert_exporter": "python",
      "pygments_lexer": "ipython3",
      "version": "3.12.1"
    }
  },
  "nbformat": 4,
  "nbformat_minor": 5
}
