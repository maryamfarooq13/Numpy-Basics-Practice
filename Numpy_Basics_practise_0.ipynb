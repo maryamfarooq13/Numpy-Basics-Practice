{
  "cells": [
    {
      "cell_type": "code",
      "execution_count": 1,
      "metadata": {
        "id": "YAvC8k1FKC6i"
      },
      "outputs": [],
      "source": [
        "import numpy as np"
      ]
    },
    {
      "cell_type": "markdown",
      "metadata": {
        "id": "z-ttfWOCWYAD"
      },
      "source": [
        "### Basic Array Creation"
      ]
    },
    {
      "cell_type": "markdown",
      "metadata": {
        "id": "ZksDKlwjHvFV"
      },
      "source": [
        "# Creatation of List\n",
        "How to create Lists in python?"
      ]
    },
    {
      "cell_type": "code",
      "execution_count": 2,
      "metadata": {
        "id": "mCgQsxXkF3nb"
      },
      "outputs": [],
      "source": [
        "#list creation\n",
        "list = [1,2,3,4,5,6,7,8,9,10]"
      ]
    },
    {
      "cell_type": "markdown",
      "metadata": {
        "id": "EUmihvpDIAzW"
      },
      "source": [
        "# Type\n",
        "Accuire type of list in python."
      ]
    },
    {
      "cell_type": "code",
      "execution_count": 3,
      "metadata": {
        "id": "Aw_RtHvuRkDi"
      },
      "outputs": [
        {
          "name": "stdout",
          "output_type": "stream",
          "text": [
            "type:  <class 'list'>\n"
          ]
        }
      ],
      "source": [
        "print('type: ', type(list))"
      ]
    },
    {
      "cell_type": "markdown",
      "metadata": {
        "id": "M2TOiuioIc6M"
      },
      "source": [
        "# Creatation of Arrays\n",
        "1.SIMPLE ARRAY CREATION\n",
        "\n",
        "2.CHECKING THE TYPE\n",
        "\n",
        "3.NUMERIC \"TYPE\" OF ELEMENTS OF ARRAYS\n",
        "\n",
        "4.Array dim\n",
        "\n",
        "5.Array Shape\n",
        "\n",
        "6.BYTES PER ELEMENT\n",
        "\n",
        "7.BYTES OF MEMORY USED, How many bytes for one array element\n",
        "\n",
        "8.Total bytes in an Array"
      ]
    },
    {
      "cell_type": "code",
      "execution_count": 4,
      "metadata": {
        "id": "uy_hPIW4A4uM"
      },
      "outputs": [
        {
          "name": "stdout",
          "output_type": "stream",
          "text": [
            "-----------1-----------\n",
            "simple array:  [1 2 3 4 5]\n",
            "\n",
            "-----------2-----------\n",
            "type of the array:  <class 'numpy.ndarray'>\n",
            "\n",
            "-----------3-----------\n",
            "type of elements of array:  int32\n",
            "\n",
            "-----------4-----------\n",
            "dimensions of array:  1\n",
            "\n",
            "-----------5-----------\n",
            "shape of the array:  (5,)\n",
            "\n",
            "-----------6-----------\n",
            "bytes per element:  20\n",
            "\n",
            "-----------7-----------\n",
            "bytes for one array element:  4\n",
            "\n",
            "-----------8-----------\n",
            "Total bytes:  20\n",
            "\n"
          ]
        }
      ],
      "source": [
        "# 1.SIMPLE ARRAY CREATION\n",
        "print('-----------1-----------')\n",
        "arr = np.array([1,2,3,4,5])\n",
        "print('simple array: ', arr)\n",
        "print()\n",
        "\n",
        "print('-----------2-----------')\n",
        "# 2.CHECKING THE TYPE\n",
        "print('type of the array: ', type(arr))\n",
        "print()\n",
        "\n",
        "print('-----------3-----------')\n",
        "# 3.NUMERIC \"TYPE\" OF ELEMENTS OF ARRAYS\n",
        "print('type of elements of array: ', arr.dtype)\n",
        "print()\n",
        "\n",
        "print('-----------4-----------')\n",
        "# 4.Array dim\n",
        "print('dimensions of array: ', arr.ndim)\n",
        "print()\n",
        "\n",
        "print('-----------5-----------')\n",
        "# 5.Array Shape\n",
        "print('shape of the array: ', arr.shape)\n",
        "print()\n",
        "\n",
        "print('-----------6-----------')\n",
        "# 6.BYTES PER ELEMENT\n",
        "print('bytes per element: ', arr.nbytes)\n",
        "print()\n",
        "\n",
        "print('-----------7-----------')\n",
        "# 7.BYTES OF MEMORY USED, How many bytes for one array element\n",
        "print('bytes for one array element: ', arr.itemsize )\n",
        "print()\n",
        "\n",
        "print('-----------8-----------')\n",
        "# 8.Total bytes in an Array\n",
        "# Total bytes = Number of elements × Bytes per element\n",
        "print('Total bytes: ', len(arr)*arr.itemsize )\n",
        "print()"
      ]
    },
    {
      "cell_type": "code",
      "execution_count": 5,
      "metadata": {
        "id": "tf9pmYpYLuEu"
      },
      "outputs": [
        {
          "name": "stdout",
          "output_type": "stream",
          "text": [
            "----------1----------\n",
            "decimal array:  [0.1 0.6 1.1 1.6 2.1 2.6 3.1 3.6 4.1 4.6]\n",
            "\n",
            "----------2----------\n",
            "type of the array:  <class 'numpy.ndarray'>\n",
            "\n",
            "----------3----------\n",
            "type of elements of arrays:  float64\n",
            "\n",
            "----------4----------\n",
            "dimensions of array:  1\n",
            "\n",
            "----------5----------\n",
            "shape of the array:  (10,)\n",
            "\n",
            "----------6----------\n",
            "bytes per element:  80\n",
            "\n",
            "----------7----------\n",
            "bytes for one array element:  8\n",
            "\n",
            "----------8----------\n",
            "Total bytes:  80\n",
            "\n"
          ]
        }
      ],
      "source": [
        "print('----------1----------')\n",
        "# 1.SIMPLE ARRAY CREATION\n",
        "darr = np.arange(0.1,5.1,0.5)\n",
        "print('decimal array: ', darr)\n",
        "print()\n",
        "\n",
        "print('----------2----------')\n",
        "# 2.CHECKING THE TYPE\n",
        "print('type of the array: ', type(darr))\n",
        "print()\n",
        "\n",
        "print('----------3----------')\n",
        "# 3.NUMERIC \"TYPE\" OF ELEMENTS OF ARRAYS\n",
        "print('type of elements of arrays: ', darr.dtype)\n",
        "print()\n",
        "\n",
        "print('----------4----------')\n",
        "# 4.Array dim\n",
        "print('dimensions of array: ', darr.ndim)\n",
        "print()\n",
        "\n",
        "print('----------5----------')\n",
        "# 5.Array Shape\n",
        "print('shape of the array: ', darr.shape)\n",
        "print()\n",
        "\n",
        "print('----------6----------')\n",
        "# 6.BYTES PER ELEMENT\n",
        "print('bytes per element: ', darr.nbytes)\n",
        "print()\n",
        "\n",
        "print('----------7----------')\n",
        "# 7.BYTES OF MEMORY USED, How many bytes for one array element\n",
        "print('bytes for one array element: ', darr.itemsize )\n",
        "print()\n",
        "\n",
        "print('----------8----------')\n",
        "# 8.Total bytes in an Array\n",
        "# Total bytes = Number of elements×Bytes per element\n",
        "print('Total bytes: ', len(darr)*darr.itemsize )\n",
        "print()\n"
      ]
    },
    {
      "cell_type": "markdown",
      "metadata": {
        "id": "czi-ntWzFJ0M"
      },
      "source": [
        "9.Try to assign a float into an int32\n",
        "\n",
        "10.Use .fill function # fill has the same behavior\n"
      ]
    },
    {
      "cell_type": "code",
      "execution_count": 6,
      "metadata": {
        "id": "5r2iCLhHFq_-"
      },
      "outputs": [
        {
          "name": "stdout",
          "output_type": "stream",
          "text": [
            "initial int32 type array: [1 3 5 7 9]\n",
            "\n",
            "----------9,10----------\n",
            "after assigning a float: [3 3 3 3 3]\n",
            "data type after asignment:  int32\n"
          ]
        }
      ],
      "source": [
        "arr1 = np.arange(1,10,2, dtype='int32')\n",
        "print('initial int32 type array:', arr1)\n",
        "print()\n",
        "\n",
        "print('----------9,10----------')\n",
        "arr1[2] = 11.3\n",
        "arr1.fill(3.1) #fill func modifies the array\n",
        "print('after assigning a float:', arr1)\n",
        "print('data type after asignment: ', arr1.dtype)\n",
        "\n",
        "# # Learning: data type remains same utill and unless you explicitly changes it. 'astype'\n",
        "# # for practice\n",
        "# arr1[:] = \"11.1\"\n",
        "# print(arr1)"
      ]
    },
    {
      "cell_type": "markdown",
      "metadata": {
        "id": "UK4-Grt0F8_k"
      },
      "source": [
        "11.Add two  arrays\n",
        "\n",
        "12.Multiple both arrays\n",
        "\n",
        "13.Use ** operator in array operation\n",
        "\n",
        "14.Create array from 0.0 to 11.0\n",
        "\n",
        "15.Multiply entire array with a scalar value\n",
        " c = (2.0 * np.pi)\n",
        "\n",
        "16.Use np.arrange function tocreate an array with step of from 1.0 to 3.0"
      ]
    },
    {
      "cell_type": "code",
      "execution_count": 7,
      "metadata": {
        "id": "1cRgGYTdGayU"
      },
      "outputs": [
        {
          "name": "stdout",
          "output_type": "stream",
          "text": [
            "Array 1 is:  [0 2 4 6 8]\n",
            "Array 2 is:  [1 3 5 7 9]\n",
            "\n",
            "------------11-----------\n",
            "sum of the 2 arrays is:  [ 1  5  9 13 17]\n",
            "\n",
            "------------12-----------\n",
            "product of the 2 arrays is:  [ 0  6 20 42 72]\n",
            "\n",
            "------------13-----------\n",
            "Using ** operator:  [ 0  4 16 36 64]\n",
            "\n",
            "------------14-----------\n",
            "Array from 0.0 to 11.0 is:  [ 0.  1.  2.  3.  4.  5.  6.  7.  8.  9. 10. 11.]\n",
            "\n",
            "------------15-----------\n",
            "Multiplication with scalar value [ 6.28318531 18.84955592 31.41592654 43.98229715 56.54866776]\n",
            "\n",
            "------------16-----------\n",
            "array creation with np.arange and steps of 1.0 to 3.0:  [1. 3. 5. 7. 9.]\n",
            "\n"
          ]
        }
      ],
      "source": [
        "arr1 = np.arange(0,10,2)\n",
        "arr2 = np.arange(1,10,2)\n",
        "print('Array 1 is: ', arr1)\n",
        "print('Array 2 is: ', arr2)\n",
        "print()\n",
        "\n",
        "print('------------11-----------')\n",
        "print('sum of the 2 arrays is: ', arr1+arr2)\n",
        "print()\n",
        "\n",
        "print('------------12-----------')\n",
        "print('product of the 2 arrays is: ', arr1*arr2)\n",
        "print()\n",
        "\n",
        "print('------------13-----------')\n",
        "print('Using ** operator: ', arr1**2)\n",
        "print()\n",
        "\n",
        "print('------------14-----------')\n",
        "# Create array from 0.0 to 11.0\n",
        "arr3 = np.arange(0.0,12.0)\n",
        "print('Array from 0.0 to 11.0 is: ', arr3)\n",
        "print()\n",
        "\n",
        "print('------------15-----------')\n",
        "# scalar value:\n",
        "c= 2.0*np.pi\n",
        "print('Multiplication with scalar value', arr2*c)\n",
        "print()\n",
        "\n",
        "print('------------16-----------')\n",
        "arr = np.arange(1.0,10.0,2.0)\n",
        "print('array creation with np.arange and steps of 1.0 to 3.0: ', arr)\n",
        "print()\n"
      ]
    },
    {
      "cell_type": "markdown",
      "metadata": {
        "id": "60fA9aHmI0g_"
      },
      "source": [
        "# Slicing\n",
        "var[lower:upper:step]\n",
        "- Extracts a portion of a sequence by specifying a lower and upper bound.\n",
        "\n",
        "- The lower-bound element is included, but the upper-bound element is not included.\n",
        "\n",
        "- Mathematically: [lower, upper). The step value specifies the stride between elements.\n",
        "\n",
        "1. Etract array indices from 1 to 3:\n",
        "2. Use negative indices as well\n",
        "3. Omitted boundaries are assumed to be the beginning (or end) of the array grab first three elements\n",
        "4. Grab last two elements\n",
        "5. Grab every other element\n",
        "6. slicing the last two elements returns the data there\n",
        "7. Can we insert an iterable of length two? or a scalar value\n",
        "8. Arrays created by slicing share data with the originating array. Changing values in a slice also changes the original array.\n",
        "For example create a slice containing two elements of a changing b changed a! Have an experiment\n",
        "9. if an array a = [[0, 1, 2, 3, 4],[1, 2, 3, 4, 5]] extract values from row 3 to onward and from col 0, 2 and 5\n",
        "10. Perform some masking on a = np.arange(0,36).reshape(6,6)\n",
        "with mask = np.array([1, 0, 1, 0, 0, 1])\n"
      ]
    },
    {
      "cell_type": "code",
      "execution_count": 8,
      "metadata": {
        "id": "CVqexfEBMB-w"
      },
      "outputs": [
        {
          "name": "stdout",
          "output_type": "stream",
          "text": [
            "Initial array is:  [ 0  2  4  6  8 10 12 14 16 18]\n",
            "\n",
            "----------1----------\n",
            "indices from 1 to 3 have:  [2 4 6]\n",
            "\n",
            "----------2----------\n",
            "same indices with neg indexing:  [2 4 6]\n",
            "\n",
            "----------3----------\n",
            "first three elements are:  [0 2 4]\n",
            "\n",
            "----------4----------\n",
            "last two elements are:  [16 18]\n",
            "\n",
            "----------5----------\n",
            "every other element is:  [ 0  4  8 12 16]\n",
            "\n",
            "----------6----------\n",
            "last two elements are:  [16 18]\n",
            "\n",
            "----------7----------\n",
            "initial array:  [1 2 3 4 5]\n",
            "modified array after insertion of an iterable and scalar:  [ 0  2  3 11 12]\n",
            "\n",
            "----------8----------\n",
            "initial array:  [1 2 3 4 5]\n",
            "slice is:  [2 4]\n",
            "modified b:  [3 4]\n",
            "modified a wrt b:  [1 3 3 4 5]\n",
            "\n",
            "----------9----------\n",
            "[[0 1 2 3 4]\n",
            " [1 2 3 4 5]]\n",
            "values from col 0, 2 and 5 are:  [0 1] [2 3] [4 5]\n",
            "\n"
          ]
        }
      ],
      "source": [
        "arr = np.arange(0,20,2)\n",
        "print('Initial array is: ', arr)\n",
        "# print(len(arr))\n",
        "print()\n",
        "\n",
        "print('----------1----------')\n",
        "arr1 = arr[1:4]\n",
        "print('indices from 1 to 3 have: ', arr1) \n",
        "print()\n",
        "\n",
        "print('----------2----------')\n",
        "arr2 = arr[-9:-6]\n",
        "print('same indices with neg indexing: ', arr2)\n",
        "print()\n",
        "\n",
        "print('----------3----------')\n",
        "arr3 = arr[:3]\n",
        "print('first three elements are: ', arr3)\n",
        "print()\n",
        "\n",
        "print('----------4----------')\n",
        "arr4 = arr[-2:]\n",
        "print('last two elements are: ', arr4)\n",
        "print()\n",
        "\n",
        "print('----------5----------')\n",
        "arr5 = arr[::2]\n",
        "print('every other element is: ', arr5 )\n",
        "print()\n",
        "\n",
        "print('----------6----------')\n",
        "arr6 = arr[-2:]\n",
        "print('last two elements are: ', arr6)\n",
        "print()\n",
        "\n",
        "print('----------7----------')\n",
        "arr7 = np.array([1,2,3,4,5])\n",
        "print('initial array: ', arr7)\n",
        "i = [11,12]\n",
        "arr7[3:]= i\n",
        "# Yes we can insert an iterable but can not change the shape of the array.\n",
        "arr7[0] = 0\n",
        "print('modified array after insertion of an iterable and scalar: ', arr7)\n",
        "print()\n",
        "\n",
        "print('----------8----------')\n",
        "a = np.array([1,2,3,4,5])\n",
        "print('initial array: ', a)\n",
        "b = a[1::2]\n",
        "print('slice is: ', b)\n",
        "b[0]= 3\n",
        "print('modified b: ', b)\n",
        "print('modified a wrt b: ', a)\n",
        "print()\n",
        "\n",
        "print('----------9----------')\n",
        "a = np.array([[0, 1, 2, 3, 4],[1, 2, 3, 4, 5]])\n",
        "print(a)\n",
        "# values from row 3 to onwards\n",
        "# r3 = a[2,:]\n",
        "# print(r3) # output: index 2 is out of bounds for axis 0 with size 2\n",
        "# values from col 0, 2 and 5\n",
        "c0 = a[0:,0]\n",
        "c2 = a[0:,2]\n",
        "c5 = a[0:,4]\n",
        "print('values from col 0, 2 and 5 are: ', c0, c2, c5)\n",
        "print()"
      ]
    },
    {
      "cell_type": "markdown",
      "metadata": {
        "id": "WSHrRcoQN0Mu"
      },
      "source": [
        "# Array Functions\n",
        "1.Arange([start,] stop[, step],dtype=None) \n",
        "Nearly identical to Python’s range(). \n",
        "Creates an array of values in the range [start,stop) with the specified step value. Allows non-integer values for start, stop, and step. Default dtype is derived from the start, stop, and step values. create an array with arange.\n",
        "\n",
        "2.Create arrays with ONES, ZEROS, shape is a number or sequence specifying the dimensions of the array. If dtype is not specified, it defaults to float64.\n",
        "\n",
        "3.Generate an n by n identity array. The default dtype is float64.\n",
        "\n",
        "4.use empty, full, and fill, max, min, std, mean, var, argmax, linspace\n",
        "\n",
        "5.\n",
        "\n",
        "  Rule 1:\n",
        "  Operations between multiple array objects are first checked for proper shape match.\n",
        "\n",
        "  Rule 2:\n",
        "  Mathematical operators (+ - * / exp, log, ...) apply element by element, on the values.\n",
        "\n",
        "  Rule 3:\n",
        "  Reduction operations (mean, std, skew, kurt, sum, prod, ...) apply to the whole array, unless an axis is specified.\n",
        "\n",
        "  Rule 4:\n",
        "  Missing values propagate unless explicitly ignored (nanmean, nansum, ...).\n",
        "\n",
        "6.\n",
        "Create the array below with\n",
        "                  a = np.arange(-15, 15).reshape(5, 6) ** 2\n",
        "1. The maximum of each row\n",
        "2. The mean of each column\n",
        "3. The position of the overall minimum\n"
      ]
    },
    {
      "cell_type": "code",
      "execution_count": 9,
      "metadata": {
        "id": "-JEUK-2BU_L2"
      },
      "outputs": [
        {
          "name": "stdout",
          "output_type": "stream",
          "text": [
            "--------1--------\n",
            "array created with arange is:  [ 0  3  6  9 12 15 18 21 24 27]\n",
            "\n",
            "--------2--------\n",
            "array with ones: \n",
            "[[1. 1. 1. 1. 1.]\n",
            " [1. 1. 1. 1. 1.]\n",
            " [1. 1. 1. 1. 1.]\n",
            " [1. 1. 1. 1. 1.]\n",
            " [1. 1. 1. 1. 1.]]\n",
            "array with zeros: \n",
            "[[0. 0. 0. 0. 0.]\n",
            " [0. 0. 0. 0. 0.]\n",
            " [0. 0. 0. 0. 0.]\n",
            " [0. 0. 0. 0. 0.]\n",
            " [0. 0. 0. 0. 0.]]\n",
            "\n",
            "--------3--------\n",
            "identity matrix: \n",
            "[[1. 0. 0. 0. 0.]\n",
            " [0. 1. 0. 0. 0.]\n",
            " [0. 0. 1. 0. 0.]\n",
            " [0. 0. 0. 1. 0.]\n",
            " [0. 0. 0. 0. 1.]]\n",
            "\n",
            "--------4--------\n",
            "array using empty and fill func [[3. 3. 3. 3. 3.]\n",
            " [3. 3. 3. 3. 3.]\n",
            " [3. 3. 3. 3. 3.]\n",
            " [3. 3. 3. 3. 3.]\n",
            " [3. 3. 3. 3. 3.]]\n",
            "array with full function:  [[3 3 3 3 3]\n",
            " [3 3 3 3 3]\n",
            " [3 3 3 3 3]\n",
            " [3 3 3 3 3]\n",
            " [3 3 3 3 3]]\n",
            "array using linspace:  \n",
            " [ 1.          1.47368421  1.94736842  2.42105263  2.89473684  3.36842105\n",
            "  3.84210526  4.31578947  4.78947368  5.26315789  5.73684211  6.21052632\n",
            "  6.68421053  7.15789474  7.63157895  8.10526316  8.57894737  9.05263158\n",
            "  9.52631579 10.        ]\n",
            "min:  1.0\n",
            "max:  10.0\n",
            "argmax:  19\n",
            "mean:  5.5\n",
            "var:  7.460526315789473\n",
            "std:  2.7313964040009777\n",
            "\n",
            "--------6--------\n",
            "maximum of each row is:  [225  81   9  64 196]\n",
            "mean of each row is:  [159.16666667  45.16666667   3.16666667  33.16666667 135.16666667]\n",
            "position of overall min is:  15\n",
            "\n"
          ]
        }
      ],
      "source": [
        "print('--------1--------')\n",
        "arr = np.arange(0, 30, 3)\n",
        "print('array created with arange is: ', arr)\n",
        "print()\n",
        "\n",
        "print('--------2--------')\n",
        "# with ones\n",
        "print('array with ones: ')\n",
        "arr = np.ones((5,5))\n",
        "print(arr)\n",
        "# print(arr.dtype)\n",
        "# with zeors\n",
        "print('array with zeros: ')\n",
        "arr = np.zeros((5,5))\n",
        "print(arr)\n",
        "# print(arr.dtype)\n",
        "print()\n",
        "\n",
        "print('--------3--------')\n",
        "print('identity matrix: ')\n",
        "iarr = np.identity(5)\n",
        "print(iarr)\n",
        "print()\n",
        "\n",
        "print('--------4--------')\n",
        "arr = np.empty((5,5))\n",
        "arr.fill(3)\n",
        "print('array using empty and fill func', arr)\n",
        "# using full\n",
        "arr = np.full((5,5), 3)\n",
        "print('array with full function: ', arr)\n",
        "#linspace\n",
        "arr = np.linspace(1,10, 20)\n",
        "print('array using linspace: ', ('\\n'), arr)\n",
        "# min\n",
        "print('min: ', arr.min())\n",
        "# max\n",
        "print('max: ', arr.max())\n",
        "# argmax\n",
        "print('argmax: ', arr.argmax())\n",
        "# mean\n",
        "print('mean: ', arr.mean())\n",
        "# var\n",
        "print('var: ', arr.var())\n",
        "# std\n",
        "print('std: ', arr.std())\n",
        "\n",
        "\n",
        "print()\n",
        "\n",
        "# print('--------5--------')\n",
        "\n",
        "# print()\n",
        "\n",
        "print('--------6--------')\n",
        "arr = np.arange(-15,15).reshape(5,6)**2\n",
        "# print(arr)\n",
        "#The maximum of each row\n",
        "print('maximum of each row is: ', arr.max(axis=1))\n",
        "\n",
        "#The mean of each column\n",
        "print('mean of each row is: ', arr.mean(axis=1)) \n",
        "\n",
        "#The position of overall minimum\n",
        "print('position of overall min is: ', arr.argmin())\n",
        "print()\n"
      ]
    },
    {
      "cell_type": "markdown",
      "metadata": {
        "id": "uO-B0OXYWl7A"
      },
      "source": [
        "### Zip Operations on Numpy Arrays\n",
        "Use a zip function on two arrys.\n",
        "\n",
        "Create another array which would be the sum of corresponding elements of two arrays using for loop."
      ]
    },
    {
      "cell_type": "code",
      "execution_count": 10,
      "metadata": {
        "id": "QWAhbiOXHEc9"
      },
      "outputs": [
        {
          "name": "stdout",
          "output_type": "stream",
          "text": [
            "-------ZIP FUNCTION ON TWO ARRAYS------\n",
            "Two arrays are:  \n",
            " [1 2 3 4] \n",
            " [2 3 4 5]\n",
            "\n",
            "<zip object at 0x000001F36C7BB0C0>\n",
            "\n",
            "------ARRAY WITH SUM With FOR LOOP-------\n",
            "[3 5 7 9]\n"
          ]
        }
      ],
      "source": [
        "print('-------ZIP FUNCTION ON TWO ARRAYS------')\n",
        "a = [1, 2, 3, 4]\n",
        "b = [2, 3, 4, 5]\n",
        "arra = np.array(a)\n",
        "arrb = np.array(b)\n",
        "print('Two arrays are: ', ('\\n'), arra, ('\\n'), arrb )\n",
        "print()\n",
        "\n",
        "ab = zip(arra, arrb)\n",
        "print(ab)\n",
        "print()\n",
        "\n",
        "print('------ARRAY WITH SUM With FOR LOOP-------')\n",
        "listofsum = []\n",
        "for x , y  in ab :\n",
        "    # print(x, y)\n",
        "    sum = x+y\n",
        "    listofsum.append(sum)\n",
        "\n",
        "# print(listofsum)\n",
        "arr = np.array(listofsum)\n",
        "print(arr)\n",
        "# print(arr)\n",
        "# print(type(i))\n"
      ]
    },
    {
      "cell_type": "markdown",
      "metadata": {
        "id": "psT5IFZSda6X"
      },
      "source": [
        "# Array Broadcasting\n",
        "NumPy arrays of different dimensionality can be combined in the same expression. Arrays with smaller dimension are broadcasted to match the larger arrays, without copying data.\n",
        "\n",
        "Broadcasting has two rules.\n",
        "\n",
        "RULE 1: PREPEND ONES TO SMALLER ARRAY'S SHAPE\n",
        "\n",
        "RULE 2: DIMENSIONS OF SIZE 1 ARE REPEATED WITHOUT COPYING\n"
      ]
    },
    {
      "cell_type": "code",
      "execution_count": 11,
      "metadata": {
        "id": "fWiaefR1eCKO"
      },
      "outputs": [
        {
          "name": "stdout",
          "output_type": "stream",
          "text": [
            "Array after broadcasting is:  \n",
            " [[ 5  5 10]\n",
            " [10  5 15]\n",
            " [ 8  3 10]\n",
            " [11  9 17]]\n"
          ]
        }
      ],
      "source": [
        "arr1 = np.random.randint(10, size=(4,3))\n",
        "# print(arr1)\n",
        "\n",
        "arr2 = np.random.randint(10, size=(1,3))\n",
        "# print(arr2)\n",
        "\n",
        "arr3 = arr1 + arr2\n",
        "print('Array after broadcasting is: ', ('\\n'), arr3)"
      ]
    },
    {
      "cell_type": "markdown",
      "metadata": {
        "id": "YyL6p9_PktTp"
      },
      "source": [
        "1.Use reduce() operation on an array to reduec it into a single meaningful value. You. can also use a specific axis to apply reduce operation.\n",
        "\n",
        "2.accumulate() creates a new array containing the intermediate results of the reduce operation at each element in a.\n"
      ]
    },
    {
      "cell_type": "code",
      "execution_count": 12,
      "metadata": {
        "id": "jiRwJE8klCwk"
      },
      "outputs": [
        {
          "name": "stdout",
          "output_type": "stream",
          "text": [
            "-----------1----------\n",
            "sum of array after reduce operation:  20\n",
            "\n",
            "-----------2----------\n",
            "sum of array with accumulate operation:  [ 0  2  6 12 20]\n"
          ]
        }
      ],
      "source": [
        "print('-----------1----------')\n",
        "arr = np.arange(0,10,2)\n",
        "print('sum of array after reduce operation: ', np.add.reduce(arr))\n",
        "print()\n",
        "\n",
        "print('-----------2----------')\n",
        "print('sum of array with accumulate operation: ', np.add.accumulate(arr))\n"
      ]
    }
  ],
  "metadata": {
    "colab": {
      "provenance": []
    },
    "kernelspec": {
      "display_name": "Python 3",
      "name": "python3"
    },
    "language_info": {
      "codemirror_mode": {
        "name": "ipython",
        "version": 3
      },
      "file_extension": ".py",
      "mimetype": "text/x-python",
      "name": "python",
      "nbconvert_exporter": "python",
      "pygments_lexer": "ipython3",
      "version": "3.12.1"
    }
  },
  "nbformat": 4,
  "nbformat_minor": 0
}
